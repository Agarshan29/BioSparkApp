{
  "nbformat": 4,
  "nbformat_minor": 0,
  "metadata": {
    "colab": {
      "provenance": [],
      "mount_file_id": "1wnR6s8PatYmuxXZG9YLW0T_nnGifMwNF",
      "authorship_tag": "ABX9TyNEDdADE53bdPXaOEkBDOyr",
      "include_colab_link": true
    },
    "kernelspec": {
      "name": "python3",
      "display_name": "Python 3"
    },
    "language_info": {
      "name": "python"
    }
  },
  "cells": [
    {
      "cell_type": "markdown",
      "metadata": {
        "id": "view-in-github",
        "colab_type": "text"
      },
      "source": [
        "<a href=\"https://colab.research.google.com/github/Agarshan29/BioSparkApp/blob/main/models/MRI_VALIDATION_MODEL.ipynb\" target=\"_parent\"><img src=\"https://colab.research.google.com/assets/colab-badge.svg\" alt=\"Open In Colab\"/></a>"
      ]
    },
    {
      "cell_type": "code",
      "execution_count": null,
      "metadata": {
        "colab": {
          "base_uri": "https://localhost:8080/"
        },
        "id": "WVoLoV7-Y87D",
        "outputId": "9bb2953c-59ff-4dca-c2c5-535bda9c13ab"
      },
      "outputs": [
        {
          "output_type": "stream",
          "name": "stdout",
          "text": [
            "Data successfully organized into two classes!\n",
            "Found 23195 images belonging to 2 classes.\n",
            "Found 5798 images belonging to 2 classes.\n"
          ]
        },
        {
          "output_type": "stream",
          "name": "stderr",
          "text": [
            "/usr/local/lib/python3.11/dist-packages/keras/src/layers/convolutional/base_conv.py:107: UserWarning: Do not pass an `input_shape`/`input_dim` argument to a layer. When using Sequential models, prefer using an `Input(shape)` object as the first layer in the model instead.\n",
            "  super().__init__(activity_regularizer=activity_regularizer, **kwargs)\n",
            "/usr/local/lib/python3.11/dist-packages/keras/src/trainers/data_adapters/py_dataset_adapter.py:121: UserWarning: Your `PyDataset` class should call `super().__init__(**kwargs)` in its constructor. `**kwargs` can include `workers`, `use_multiprocessing`, `max_queue_size`. Do not pass these arguments to `fit()`, as they will be ignored.\n",
            "  self._warn_if_super_not_called()\n"
          ]
        },
        {
          "output_type": "stream",
          "name": "stdout",
          "text": [
            "Epoch 1/10\n",
            "\u001b[1m725/725\u001b[0m \u001b[32m━━━━━━━━━━━━━━━━━━━━\u001b[0m\u001b[37m\u001b[0m \u001b[1m3010s\u001b[0m 4s/step - accuracy: 0.9668 - loss: 0.0787 - val_accuracy: 0.9945 - val_loss: 0.0230\n",
            "Epoch 2/10\n",
            "\u001b[1m725/725\u001b[0m \u001b[32m━━━━━━━━━━━━━━━━━━━━\u001b[0m\u001b[37m\u001b[0m \u001b[1m2998s\u001b[0m 4s/step - accuracy: 0.9973 - loss: 0.0117 - val_accuracy: 0.9962 - val_loss: 0.0098\n",
            "Epoch 3/10\n",
            "\u001b[1m725/725\u001b[0m \u001b[32m━━━━━━━━━━━━━━━━━━━━\u001b[0m\u001b[37m\u001b[0m \u001b[1m3007s\u001b[0m 4s/step - accuracy: 0.9989 - loss: 0.0036 - val_accuracy: 0.9924 - val_loss: 0.0233\n",
            "Epoch 4/10\n",
            "\u001b[1m725/725\u001b[0m \u001b[32m━━━━━━━━━━━━━━━━━━━━\u001b[0m\u001b[37m\u001b[0m \u001b[1m3037s\u001b[0m 4s/step - accuracy: 0.9975 - loss: 0.0093 - val_accuracy: 0.9984 - val_loss: 0.0046\n",
            "Epoch 5/10\n",
            "\u001b[1m725/725\u001b[0m \u001b[32m━━━━━━━━━━━━━━━━━━━━\u001b[0m\u001b[37m\u001b[0m \u001b[1m2992s\u001b[0m 4s/step - accuracy: 0.9989 - loss: 0.0045 - val_accuracy: 1.0000 - val_loss: 2.6357e-04\n",
            "Epoch 6/10\n",
            "\u001b[1m725/725\u001b[0m \u001b[32m━━━━━━━━━━━━━━━━━━━━\u001b[0m\u001b[37m\u001b[0m \u001b[1m3028s\u001b[0m 4s/step - accuracy: 0.9997 - loss: 6.5901e-04 - val_accuracy: 1.0000 - val_loss: 3.4659e-05\n",
            "Epoch 7/10\n",
            "\u001b[1m725/725\u001b[0m \u001b[32m━━━━━━━━━━━━━━━━━━━━\u001b[0m\u001b[37m\u001b[0m \u001b[1m2977s\u001b[0m 4s/step - accuracy: 0.9987 - loss: 0.0143 - val_accuracy: 0.9986 - val_loss: 0.0043\n",
            "Epoch 8/10\n",
            "\u001b[1m725/725\u001b[0m \u001b[32m━━━━━━━━━━━━━━━━━━━━\u001b[0m\u001b[37m\u001b[0m \u001b[1m2973s\u001b[0m 4s/step - accuracy: 0.9983 - loss: 0.0062 - val_accuracy: 0.9993 - val_loss: 0.0033\n",
            "Epoch 9/10\n",
            "\u001b[1m725/725\u001b[0m \u001b[32m━━━━━━━━━━━━━━━━━━━━\u001b[0m\u001b[37m\u001b[0m \u001b[1m2935s\u001b[0m 4s/step - accuracy: 0.9997 - loss: 0.0018 - val_accuracy: 0.9997 - val_loss: 5.9442e-04\n",
            "Epoch 10/10\n",
            "\u001b[1m725/725\u001b[0m \u001b[32m━━━━━━━━━━━━━━━━━━━━\u001b[0m\u001b[37m\u001b[0m \u001b[1m2950s\u001b[0m 4s/step - accuracy: 0.9995 - loss: 0.0026 - val_accuracy: 0.9998 - val_loss: 4.6824e-04\n",
            "\u001b[1m182/182\u001b[0m \u001b[32m━━━━━━━━━━━━━━━━━━━━\u001b[0m\u001b[37m\u001b[0m \u001b[1m227s\u001b[0m 1s/step - accuracy: 1.0000 - loss: 1.7169e-04\n"
          ]
        },
        {
          "output_type": "stream",
          "name": "stderr",
          "text": [
            "WARNING:absl:You are saving your model as an HDF5 file via `model.save()` or `keras.saving.save_model(model)`. This file format is considered legacy. We recommend using instead the native Keras format, e.g. `model.save('my_model.keras')` or `keras.saving.save_model(model, 'my_model.keras')`. \n"
          ]
        },
        {
          "output_type": "stream",
          "name": "stdout",
          "text": [
            "Validation Accuracy: 99.98%\n",
            "Model training complete and saved successfully!\n"
          ]
        }
      ],
      "source": [
        "import os\n",
        "import tensorflow as tf\n",
        "from tensorflow.keras.preprocessing.image import ImageDataGenerator\n",
        "\n",
        "BASE_DIR = \"/content/drive/MyDrive\"\n",
        "MRI_DIR = os.path.join(BASE_DIR, \"Training\")\n",
        "NON_MRI_DIR = os.path.join(BASE_DIR, \"dollar_street_data/Dollar street trial\")\n",
        "\n",
        "import shutil\n",
        "\n",
        "DATASET_PATH = \"/content/mri_vs_non_mri\"\n",
        "os.makedirs(DATASET_PATH, exist_ok=True)\n",
        "\n",
        "MRI_TRAIN_PATH = os.path.join(DATASET_PATH, \"MRI\")\n",
        "NON_MRI_TRAIN_PATH = os.path.join(DATASET_PATH, \"Non-MRI\")\n",
        "\n",
        "os.makedirs(MRI_TRAIN_PATH, exist_ok=True)\n",
        "os.makedirs(NON_MRI_TRAIN_PATH, exist_ok=True)\n",
        "\n",
        "for category in [\"glioma\", \"meningioma\", \"pituitary\", \"notumor\"]:\n",
        "    src_path = os.path.join(MRI_DIR, category)\n",
        "    for img_file in os.listdir(src_path):\n",
        "        shutil.copy(os.path.join(src_path, img_file), MRI_TRAIN_PATH)\n",
        "\n",
        "for subfolder in os.listdir(NON_MRI_DIR):\n",
        "    img_path = os.path.join(NON_MRI_DIR, subfolder, \"img\")\n",
        "    if os.path.exists(img_path):\n",
        "        for img_file in os.listdir(img_path):\n",
        "            shutil.copy(os.path.join(img_path, img_file), NON_MRI_TRAIN_PATH)\n",
        "\n",
        "print(\"Data successfully organized into two classes!\")\n",
        "\n",
        "IMG_SIZE = (224, 224)\n",
        "BATCH_SIZE = 32\n",
        "\n",
        "datagen = ImageDataGenerator(rescale=1.0/255, validation_split=0.2)\n",
        "\n",
        "train_gen = datagen.flow_from_directory(\n",
        "    DATASET_PATH,\n",
        "    target_size=IMG_SIZE,\n",
        "    batch_size=BATCH_SIZE,\n",
        "    class_mode='binary',\n",
        "    subset='training'\n",
        ")\n",
        "\n",
        "val_gen = datagen.flow_from_directory(\n",
        "    DATASET_PATH,\n",
        "    target_size=IMG_SIZE,\n",
        "    batch_size=BATCH_SIZE,\n",
        "    class_mode='binary',\n",
        "    subset='validation'\n",
        ")\n",
        "\n",
        "from tensorflow.keras.models import Sequential\n",
        "from tensorflow.keras.layers import Conv2D, MaxPooling2D, Flatten, Dense, Dropout\n",
        "\n",
        "model = Sequential([\n",
        "    Conv2D(32, (3,3), activation='relu', input_shape=(224, 224, 3)),\n",
        "    MaxPooling2D(2,2),\n",
        "    Conv2D(64, (3,3), activation='relu'),\n",
        "    MaxPooling2D(2,2),\n",
        "    Conv2D(128, (3,3), activation='relu'),\n",
        "    MaxPooling2D(2,2),\n",
        "    Flatten(),\n",
        "    Dense(128, activation='relu'),\n",
        "    Dropout(0.5),\n",
        "    Dense(1, activation='sigmoid')\n",
        "])\n",
        "\n",
        "model.compile(optimizer='adam', loss='binary_crossentropy', metrics=['accuracy'])\n",
        "\n",
        "EPOCHS = 10\n",
        "\n",
        "history = model.fit(train_gen, validation_data=val_gen, epochs=EPOCHS)\n",
        "\n",
        "loss, acc = model.evaluate(val_gen)\n",
        "print(f\"Validation Accuracy: {acc * 100:.2f}%\")\n",
        "\n",
        "model.save(\"/content/mri_vs_non_mri_model.h5\")\n",
        "\n",
        "print(\"Model training complete and saved successfully!\")\n"
      ]
    },
    {
      "cell_type": "code",
      "source": [
        "\n",
        "\n",
        "import os\n",
        "\n",
        "\n",
        "source_model_path = \"/content/mri_vs_non_mri_model.h5\"\n",
        "\n",
        "\n",
        "destination_model_path = \"/content/drive/MyDrive/mri_vs_non_mri_model.h5\"\n",
        "\n",
        "\n",
        "destination_dir = os.path.dirname(destination_model_path)\n",
        "if not os.path.exists(destination_dir):\n",
        "    os.makedirs(destination_dir)\n",
        "\n",
        "\n",
        "!cp \"$source_model_path\" \"$destination_model_path\"\n",
        "\n",
        "print(f\"Model saved to Google Drive at: {destination_model_path}\")\n"
      ],
      "metadata": {
        "colab": {
          "base_uri": "https://localhost:8080/"
        },
        "id": "EmQFdFWek-He",
        "outputId": "21079373-aa65-4a58-ecfc-bc6bee223c1d"
      },
      "execution_count": null,
      "outputs": [
        {
          "output_type": "stream",
          "name": "stdout",
          "text": [
            "Model saved to Google Drive at: /content/drive/MyDrive/mri_vs_non_mri_model.h5\n"
          ]
        }
      ]
    },
    {
      "cell_type": "code",
      "source": [
        "\n",
        "import tensorflow as tf\n",
        "from tensorflow.keras.preprocessing import image\n",
        "import numpy as np\n",
        "\n",
        "# Load the saved model\n",
        "model = tf.keras.models.load_model('/content/drive/MyDrive/mri_vs_non_mri_model.h5')\n",
        "\n",
        "\n",
        "image_path = \"/content/drive/MyDrive/unseen test/Data/Normal/N_100_HF_.jpg\"  # Replace with your image path\n",
        "\n",
        "# Preprocess the image\n",
        "img = image.load_img(image_path, target_size=(224, 224))\n",
        "img_array = image.img_to_array(img)\n",
        "img_array = np.expand_dims(img_array, axis=0)\n",
        "img_array /= 255.0  # Normalize the image\n",
        "\n",
        "# Make predictions\n",
        "prediction = model.predict(img_array)\n",
        "\n",
        "\n",
        "if prediction[0][0] > 0.5:\n",
        "    print(\"Prediction: Non-MRI\")\n",
        "else:\n",
        "    print(\"Prediction: MRI\")\n",
        "\n"
      ],
      "metadata": {
        "colab": {
          "base_uri": "https://localhost:8080/"
        },
        "id": "AwfK8cpYlICF",
        "outputId": "2383c616-a731-4988-d3e4-dcde5bad5ece"
      },
      "execution_count": null,
      "outputs": [
        {
          "output_type": "stream",
          "name": "stderr",
          "text": [
            "WARNING:absl:Compiled the loaded model, but the compiled metrics have yet to be built. `model.compile_metrics` will be empty until you train or evaluate the model.\n"
          ]
        },
        {
          "output_type": "stream",
          "name": "stdout",
          "text": [
            "\u001b[1m1/1\u001b[0m \u001b[32m━━━━━━━━━━━━━━━━━━━━\u001b[0m\u001b[37m\u001b[0m \u001b[1m1s\u001b[0m 692ms/step\n",
            "Prediction: MRI\n"
          ]
        }
      ]
    },
    {
      "cell_type": "code",
      "source": [
        "\n",
        "# Convert the model to TensorFlow Lite format\n",
        "converter = tf.lite.TFLiteConverter.from_keras_model(model)\n",
        "tflite_model = converter.convert()\n",
        "\n",
        "# Save the TensorFlow Lite model\n",
        "with open('/content/drive/MyDrive/mri_vs_non_mri_model.tflite', 'wb') as f:\n",
        "  f.write(tflite_model)\n",
        "\n",
        "print(\"TFLite model saved to Google Drive!\")\n"
      ],
      "metadata": {
        "colab": {
          "base_uri": "https://localhost:8080/"
        },
        "id": "BGPWfzWLnoaz",
        "outputId": "0edca577-3ee0-4582-a88c-f625d6ab9100"
      },
      "execution_count": null,
      "outputs": [
        {
          "output_type": "stream",
          "name": "stdout",
          "text": [
            "Saved artifact at '/tmp/tmp2uzp4h2u'. The following endpoints are available:\n",
            "\n",
            "* Endpoint 'serve'\n",
            "  args_0 (POSITIONAL_ONLY): TensorSpec(shape=(None, 224, 224, 3), dtype=tf.float32, name='input_layer')\n",
            "Output Type:\n",
            "  TensorSpec(shape=(None, 1), dtype=tf.float32, name=None)\n",
            "Captures:\n",
            "  140059267841680: TensorSpec(shape=(), dtype=tf.resource, name=None)\n",
            "  140059267840144: TensorSpec(shape=(), dtype=tf.resource, name=None)\n",
            "  140059267840336: TensorSpec(shape=(), dtype=tf.resource, name=None)\n",
            "  140059267841104: TensorSpec(shape=(), dtype=tf.resource, name=None)\n",
            "  140059267838032: TensorSpec(shape=(), dtype=tf.resource, name=None)\n",
            "  140059267838224: TensorSpec(shape=(), dtype=tf.resource, name=None)\n",
            "  140059267840528: TensorSpec(shape=(), dtype=tf.resource, name=None)\n",
            "  140059267835920: TensorSpec(shape=(), dtype=tf.resource, name=None)\n",
            "  140059244101904: TensorSpec(shape=(), dtype=tf.resource, name=None)\n",
            "  140059244104400: TensorSpec(shape=(), dtype=tf.resource, name=None)\n",
            "TFLite model saved to Google Drive!\n"
          ]
        }
      ]
    }
  ]
}